{
 "cells": [
  {
   "cell_type": "code",
   "execution_count": 1,
   "metadata": {},
   "outputs": [],
   "source": [
    "using LinearAlgebra\n",
    "using Distributions, LinearAlgebra\n",
    "using DifferentialEquations"
   ]
  },
  {
   "cell_type": "code",
   "execution_count": 2,
   "metadata": {},
   "outputs": [
    {
     "data": {
      "text/plain": [
       "generate_data"
      ]
     },
     "execution_count": 2,
     "metadata": {},
     "output_type": "execute_result"
    }
   ],
   "source": [
    "include(\"../src/models.jl\")\n",
    "include(\"../src/time_series.jl\")\n",
    "include(\"../src/state_space.jl\")\n",
    "include(\"../src/catalog.jl\")\n",
    "include(\"../src/generate_data.jl\")"
   ]
  },
  {
   "cell_type": "code",
   "execution_count": 3,
   "metadata": {},
   "outputs": [
    {
     "name": "stdout",
     "output_type": "stream",
     "text": [
      "search: \u001b[0m\u001b[1mS\u001b[22m\u001b[0m\u001b[1mt\u001b[22m\u001b[0m\u001b[1ma\u001b[22m\u001b[0m\u001b[1mt\u001b[22m\u001b[0m\u001b[1me\u001b[22m\u001b[0m\u001b[1mS\u001b[22m\u001b[0m\u001b[1mp\u001b[22m\u001b[0m\u001b[1ma\u001b[22m\u001b[0m\u001b[1mc\u001b[22m\u001b[0m\u001b[1me\u001b[22m\u001b[0m\u001b[1mM\u001b[22m\u001b[0m\u001b[1mo\u001b[22m\u001b[0m\u001b[1md\u001b[22m\u001b[0m\u001b[1me\u001b[22m\u001b[0m\u001b[1ml\u001b[22m\n",
      "\n"
     ]
    },
    {
     "data": {
      "text/latex": [
       "Space-State model is defined through the following equations\n",
       "\n",
       "$$\\left\\{\n",
       "\\begin{array}{l}\n",
       "X_t = m(X_{t-1}) + \\eta_t, \\\\\n",
       "Y_t = H(X_t) + \\varepsilon_t,\n",
       "\\end{array}\n",
       "\\right.$$\n",
       "\\begin{itemize}\n",
       "\\item X : hidden variables\n",
       "\n",
       "\n",
       "\\item Y : observed variables\n",
       "\n",
       "\n",
       "\\item \\texttt{dt\\_integration}is the numerical time step used to solve the ODE.\n",
       "\n",
       "\n",
       "\\item \\texttt{dt\\_states} is the number of \\texttt{dt\\_integration} between $X_{t-1}$ and $X_t$.\n",
       "\n",
       "\n",
       "\\item \\texttt{dt\\_obs} is the number of \\texttt{dt\\_integration} between $Y_{t-1}$ and $Y_t$.\n",
       "\n",
       "\\end{itemize}\n"
      ],
      "text/markdown": [
       "Space-State model is defined through the following equations\n",
       "\n",
       "$$\n",
       "\\left\\{\n",
       "\\begin{array}{l}\n",
       "X_t = m(X_{t-1}) + \\eta_t, \\\\\n",
       "Y_t = H(X_t) + \\varepsilon_t,\n",
       "\\end{array}\n",
       "\\right.\n",
       "$$\n",
       "\n",
       "  * X : hidden variables\n",
       "  * Y : observed variables\n",
       "  * `dt_integration`is the numerical time step used to solve the ODE.\n",
       "  * `dt_states` is the number of `dt_integration` between $X_{t-1}$ and $X_t$.\n",
       "  * `dt_obs` is the number of `dt_integration` between $Y_{t-1}$ and $Y_t$.\n"
      ],
      "text/plain": [
       "  Space-State model is defined through the following equations\n",
       "\n",
       "\u001b[35m\\left\\{\u001b[39m\n",
       "\u001b[35m\\begin{array}{l}\u001b[39m\n",
       "\u001b[35mX_t = m(X_{t-1}) + \\eta_t, \\\\\u001b[39m\n",
       "\u001b[35mY_t = H(X_t) + \\varepsilon_t,\u001b[39m\n",
       "\u001b[35m\\end{array}\u001b[39m\n",
       "\u001b[35m\\right.\u001b[39m\n",
       "\n",
       "    •    X : hidden variables\n",
       "\n",
       "    •    Y : observed variables\n",
       "\n",
       "    •    \u001b[36mdt_integration\u001b[39mis the numerical time step used to solve the ODE.\n",
       "\n",
       "    •    \u001b[36mdt_states\u001b[39m is the number of \u001b[36mdt_integration\u001b[39m between \u001b[35mX_{t-1}\u001b[39m and \u001b[35mX_t\u001b[39m.\n",
       "\n",
       "    •    \u001b[36mdt_obs\u001b[39m is the number of \u001b[36mdt_integration\u001b[39m between \u001b[35mY_{t-1}\u001b[39m and \u001b[35mY_t\u001b[39m."
      ]
     },
     "execution_count": 3,
     "metadata": {},
     "output_type": "execute_result"
    }
   ],
   "source": [
    "?StateSpaceModel"
   ]
  },
  {
   "cell_type": "code",
   "execution_count": 4,
   "metadata": {
    "lines_to_next_cell": 0
   },
   "outputs": [
    {
     "data": {
      "text/plain": [
       "(TimeSeries{Float64}(101, 3, [0.0, 0.01, 0.02, 0.03, 0.04, 0.05, 0.06, 0.07, 0.08, 0.09  …  0.91, 0.92, 0.93, 0.94, 0.95, 0.96, 0.97, 0.98, 0.99, 1.0], [7.25668 11.744 16.9675; 7.71695 12.4326 17.4143; … ; 12.4919 5.0265 38.8452; 11.7159 3.69806 38.3431]), TimeSeries{Float64}(101, 3, [0.0, 0.01, 0.02, 0.03, 0.04, 0.05, 0.06, 0.07, 0.08, 0.09  …  0.91, 0.92, 0.93, 0.94, 0.95, 0.96, 0.97, 0.98, 0.99, 1.0], [4.87858 NaN NaN; NaN NaN NaN; … ; NaN NaN NaN; NaN NaN NaN]), Catalog{Float64}([11.7159 3.69806 38.3431; 11.7079 3.68558 38.3372; … ; -2.5464 -4.51909 21.222; -2.54837 -4.52037 21.2175], [11.7159 3.69806 38.3431; 11.7079 3.68558 38.3372; … ; -2.54443 -4.51782 21.2265; -2.5464 -4.51909 21.222], [11.7079 3.68558 38.3372; 11.6999 3.67311 38.3313; … ; -2.5464 -4.51909 21.222; -2.54837 -4.52037 21.2175], StateSpaceModel(0.01, 1, 8, [10.0, 28.0, 2.66667], [1], 30, 1, 0.0, 2.0)))"
      ]
     },
     "execution_count": 4,
     "metadata": {},
     "output_type": "execute_result"
    }
   ],
   "source": [
    "σ = 10.0\n",
    "ρ = 28.0\n",
    "β = 8.0/3\n",
    "\n",
    "dt_integration = 0.01\n",
    "dt_states      = 1 \n",
    "dt_obs         = 8 \n",
    "parameters     = [σ, ρ, β]\n",
    "var_obs        = [1]\n",
    "nb_loop_train  = 30 \n",
    "nb_loop_test   = 1\n",
    "sigma2_catalog = 0.0\n",
    "sigma2_obs     = 2.0\n",
    "\n",
    "ssm = StateSpaceModel( dt_integration, dt_states, dt_obs, \n",
    "                       parameters, var_obs,\n",
    "                       nb_loop_train, nb_loop_test,\n",
    "                       sigma2_catalog, sigma2_obs )\n",
    "\n",
    "xt, yo, catalog = generate_data( ssm )"
   ]
  },
  {
   "cell_type": "code",
   "execution_count": 5,
   "metadata": {},
   "outputs": [
    {
     "data": {
      "text/plain": [
       "ModelForecasting(0.01, [10.0, 28.0, 2.66667])"
      ]
     },
     "execution_count": 5,
     "metadata": {},
     "output_type": "execute_result"
    }
   ],
   "source": [
    "include(\"../src/model_forecasting.jl\")\n",
    "\n",
    "mf = ModelForecasting( ssm )"
   ]
  },
  {
   "cell_type": "code",
   "execution_count": 6,
   "metadata": {},
   "outputs": [
    {
     "data": {
      "text/plain": [
       "10×3 Array{Float64,2}:\n",
       " 7.02601   0.277035   29.9468\n",
       " 7.55585   0.0838744  29.2642\n",
       " 7.07883  -0.90367    29.2677\n",
       " 6.84148   0.555643   29.7196\n",
       " 7.02075  -0.328578   28.9095\n",
       " 7.16764  -0.338593   29.3334\n",
       " 7.07062  -0.348486   28.6547\n",
       " 7.18853   0.228811   29.1208\n",
       " 7.03164  -0.136325   28.9508\n",
       " 7.27569  -0.218861   29.2762"
      ]
     },
     "execution_count": 6,
     "metadata": {},
     "output_type": "execute_result"
    }
   ],
   "source": [
    "μ = [0.,0.,0]\n",
    "σ = 0.1 .* Matrix(I,3,3)\n",
    "d = MvNormal(μ, σ)\n",
    "np = 10\n",
    "x = [8.0 0.0 30.0] .+ rand(d, np)'\n",
    "mf(x)"
   ]
  },
  {
   "cell_type": "code",
   "execution_count": 7,
   "metadata": {},
   "outputs": [
    {
     "data": {
      "text/plain": [
       "10×3 Array{Float64,2}:\n",
       " 7.39926  11.8469  16.7588\n",
       " 7.38928  11.2219  17.2274\n",
       " 7.43061  11.409   16.9929\n",
       " 7.66755  11.5564  16.983 \n",
       " 6.78382  11.4279  16.5447\n",
       " 7.05006  11.2902  16.9534\n",
       " 7.33631  11.7271  16.9041\n",
       " 7.75062  11.6664  16.9366\n",
       " 7.35586  11.8377  17.7479\n",
       " 7.12964  11.6919  17.4737"
      ]
     },
     "execution_count": 7,
     "metadata": {},
     "output_type": "execute_result"
    }
   ],
   "source": [
    "xb = xt.values[1,:]\n",
    "xf = xb' .+ rand(d, np)'\n"
   ]
  },
  {
   "cell_type": "code",
   "execution_count": 26,
   "metadata": {},
   "outputs": [
    {
     "data": {
      "text/plain": [
       "1-element Array{Int64,1}:\n",
       " 1"
      ]
     },
     "execution_count": 26,
     "metadata": {},
     "output_type": "execute_result"
    }
   ],
   "source": [
    "include(\"../src/data_assimilation.jl\")\n",
    "da = DataAssimilation( mf, :EnKs, np, xt, ssm.sigma2_obs)\n",
    "data_assimilation(yo, da)"
   ]
  },
  {
   "cell_type": "markdown",
   "metadata": {},
   "source": [
    "-"
   ]
  },
  {
   "cell_type": "code",
   "execution_count": 27,
   "metadata": {},
   "outputs": [
    {
     "ename": "UndefVarError",
     "evalue": "UndefVarError: k not defined",
     "output_type": "error",
     "traceback": [
      "UndefVarError: k not defined",
      "",
      "Stacktrace:",
      " [1] top-level scope at In[27]:1"
     ]
    }
   ],
   "source": [
    "findall(.!isnan.(yo.values[k,1]))\n"
   ]
  },
  {
   "cell_type": "code",
   "execution_count": null,
   "metadata": {},
   "outputs": [],
   "source": []
  }
 ],
 "metadata": {
  "@webio": {
   "lastCommId": null,
   "lastKernelId": null
  },
  "jupytext": {
   "formats": "ipynb,jl:light"
  },
  "kernelspec": {
   "display_name": "Julia 1.1.0",
   "language": "julia",
   "name": "julia-1.1"
  },
  "language_info": {
   "file_extension": ".jl",
   "mimetype": "application/julia",
   "name": "julia",
   "version": "1.1.1"
  }
 },
 "nbformat": 4,
 "nbformat_minor": 2
}
